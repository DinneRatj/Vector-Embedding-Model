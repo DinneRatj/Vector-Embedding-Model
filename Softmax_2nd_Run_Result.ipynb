{
  "cells": [
    {
      "cell_type": "markdown",
      "metadata": {
        "id": "view-in-github",
        "colab_type": "text"
      },
      "source": [
        "<a href=\"https://colab.research.google.com/github/DinneRatj/Vector-Embedding-Model/blob/main/Softmax_2nd_Run_Result.ipynb\" target=\"_parent\"><img src=\"https://colab.research.google.com/assets/colab-badge.svg\" alt=\"Open In Colab\"/></a>"
      ]
    },
    {
      "cell_type": "code",
      "execution_count": null,
      "metadata": {
        "id": "EU-HbAq3ASsR",
        "outputId": "e3eb9aa8-7d7c-4d5e-bd0e-7717513d751e",
        "colab": {
          "base_uri": "https://localhost:8080/"
        }
      },
      "outputs": [
        {
          "output_type": "execute_result",
          "data": {
            "text/plain": [
              "<torch._C.Generator at 0x7f182f9fb950>"
            ]
          },
          "metadata": {},
          "execution_count": 1
        }
      ],
      "source": [
        "#Imporing libraries\n",
        "import torch\n",
        "import torch.nn as nn\n",
        "import numpy as np\n",
        "import pandas as pd\n",
        "import matplotlib.pyplot as plt\n",
        "import seaborn as sns\n",
        "from torch.autograd import Variable\n",
        "%matplotlib inline\n",
        "from sklearn.metrics import classification_report, confusion_matrix, accuracy_score\n",
        "from sklearn.preprocessing import StandardScaler\n",
        "from sklearn.manifold import TSNE\n",
        "from sklearn.linear_model import LogisticRegression\n",
        "\n",
        "#Added so that the random numbers are always the same when the program is run, so the results are always the same\n",
        "np.random.seed(1234)\n",
        "torch.manual_seed(1234)"
      ]
    },
    {
      "cell_type": "code",
      "source": [
        "#Mounting to Gdrive\n",
        "from google.colab import drive\n",
        "drive.mount('/content/drive')"
      ],
      "metadata": {
        "colab": {
          "base_uri": "https://localhost:8080/"
        },
        "id": "3OYU7lClnIgT",
        "outputId": "22e0b635-e5aa-4392-9b8f-7c82acb6bea5"
      },
      "execution_count": null,
      "outputs": [
        {
          "output_type": "stream",
          "name": "stdout",
          "text": [
            "Mounted at /content/drive\n"
          ]
        }
      ]
    },
    {
      "cell_type": "code",
      "execution_count": null,
      "metadata": {
        "id": "L8MjymO8ASsX",
        "outputId": "a09de4c1-d5ab-46ee-ebf1-b0b5d36eb8dd",
        "colab": {
          "base_uri": "https://localhost:8080/",
          "height": 502
        }
      },
      "outputs": [
        {
          "output_type": "execute_result",
          "data": {
            "text/plain": [
              "     state  account length  area code phone number international plan  \\\n",
              "0       KS             128        415     382-4657                 no   \n",
              "1       OH             107        415     371-7191                 no   \n",
              "2       NJ             137        415     358-1921                 no   \n",
              "3       OH              84        408     375-9999                yes   \n",
              "4       OK              75        415     330-6626                yes   \n",
              "...    ...             ...        ...          ...                ...   \n",
              "3328    AZ             192        415     414-4276                 no   \n",
              "3329    WV              68        415     370-3271                 no   \n",
              "3330    RI              28        510     328-8230                 no   \n",
              "3331    CT             184        510     364-6381                yes   \n",
              "3332    TN              74        415     400-4344                 no   \n",
              "\n",
              "     voice mail plan  number vmail messages  total day minutes  \\\n",
              "0                yes                     25              265.1   \n",
              "1                yes                     26              161.6   \n",
              "2                 no                      0              243.4   \n",
              "3                 no                      0              299.4   \n",
              "4                 no                      0              166.7   \n",
              "...              ...                    ...                ...   \n",
              "3328             yes                     36              156.2   \n",
              "3329              no                      0              231.1   \n",
              "3330              no                      0              180.8   \n",
              "3331              no                      0              213.8   \n",
              "3332             yes                     25              234.4   \n",
              "\n",
              "      total day calls  total day charge  total eve minutes  total eve calls  \\\n",
              "0                 110             45.07              197.4               99   \n",
              "1                 123             27.47              195.5              103   \n",
              "2                 114             41.38              121.2              110   \n",
              "3                  71             50.90               61.9               88   \n",
              "4                 113             28.34              148.3              122   \n",
              "...               ...               ...                ...              ...   \n",
              "3328               77             26.55              215.5              126   \n",
              "3329               57             39.29              153.4               55   \n",
              "3330              109             30.74              288.8               58   \n",
              "3331              105             36.35              159.6               84   \n",
              "3332              113             39.85              265.9               82   \n",
              "\n",
              "      total eve charge  total night minutes  total night calls  \\\n",
              "0                16.78                244.7                 91   \n",
              "1                16.62                254.4                103   \n",
              "2                10.30                162.6                104   \n",
              "3                 5.26                196.9                 89   \n",
              "4                12.61                186.9                121   \n",
              "...                ...                  ...                ...   \n",
              "3328             18.32                279.1                 83   \n",
              "3329             13.04                191.3                123   \n",
              "3330             24.55                191.9                 91   \n",
              "3331             13.57                139.2                137   \n",
              "3332             22.60                241.4                 77   \n",
              "\n",
              "      total night charge  total intl minutes  total intl calls  \\\n",
              "0                  11.01                10.0                 3   \n",
              "1                  11.45                13.7                 3   \n",
              "2                   7.32                12.2                 5   \n",
              "3                   8.86                 6.6                 7   \n",
              "4                   8.41                10.1                 3   \n",
              "...                  ...                 ...               ...   \n",
              "3328               12.56                 9.9                 6   \n",
              "3329                8.61                 9.6                 4   \n",
              "3330                8.64                14.1                 6   \n",
              "3331                6.26                 5.0                10   \n",
              "3332               10.86                13.7                 4   \n",
              "\n",
              "      total intl charge  customer service calls  churn  \n",
              "0                  2.70                       1  False  \n",
              "1                  3.70                       1  False  \n",
              "2                  3.29                       0  False  \n",
              "3                  1.78                       2  False  \n",
              "4                  2.73                       3  False  \n",
              "...                 ...                     ...    ...  \n",
              "3328               2.67                       2  False  \n",
              "3329               2.59                       3  False  \n",
              "3330               3.81                       2  False  \n",
              "3331               1.35                       2  False  \n",
              "3332               3.70                       0  False  \n",
              "\n",
              "[3333 rows x 21 columns]"
            ],
            "text/html": [
              "\n",
              "  <div id=\"df-f3dc1064-5aea-4c95-8fd9-6923e24cceda\">\n",
              "    <div class=\"colab-df-container\">\n",
              "      <div>\n",
              "<style scoped>\n",
              "    .dataframe tbody tr th:only-of-type {\n",
              "        vertical-align: middle;\n",
              "    }\n",
              "\n",
              "    .dataframe tbody tr th {\n",
              "        vertical-align: top;\n",
              "    }\n",
              "\n",
              "    .dataframe thead th {\n",
              "        text-align: right;\n",
              "    }\n",
              "</style>\n",
              "<table border=\"1\" class=\"dataframe\">\n",
              "  <thead>\n",
              "    <tr style=\"text-align: right;\">\n",
              "      <th></th>\n",
              "      <th>state</th>\n",
              "      <th>account length</th>\n",
              "      <th>area code</th>\n",
              "      <th>phone number</th>\n",
              "      <th>international plan</th>\n",
              "      <th>voice mail plan</th>\n",
              "      <th>number vmail messages</th>\n",
              "      <th>total day minutes</th>\n",
              "      <th>total day calls</th>\n",
              "      <th>total day charge</th>\n",
              "      <th>total eve minutes</th>\n",
              "      <th>total eve calls</th>\n",
              "      <th>total eve charge</th>\n",
              "      <th>total night minutes</th>\n",
              "      <th>total night calls</th>\n",
              "      <th>total night charge</th>\n",
              "      <th>total intl minutes</th>\n",
              "      <th>total intl calls</th>\n",
              "      <th>total intl charge</th>\n",
              "      <th>customer service calls</th>\n",
              "      <th>churn</th>\n",
              "    </tr>\n",
              "  </thead>\n",
              "  <tbody>\n",
              "    <tr>\n",
              "      <th>0</th>\n",
              "      <td>KS</td>\n",
              "      <td>128</td>\n",
              "      <td>415</td>\n",
              "      <td>382-4657</td>\n",
              "      <td>no</td>\n",
              "      <td>yes</td>\n",
              "      <td>25</td>\n",
              "      <td>265.1</td>\n",
              "      <td>110</td>\n",
              "      <td>45.07</td>\n",
              "      <td>197.4</td>\n",
              "      <td>99</td>\n",
              "      <td>16.78</td>\n",
              "      <td>244.7</td>\n",
              "      <td>91</td>\n",
              "      <td>11.01</td>\n",
              "      <td>10.0</td>\n",
              "      <td>3</td>\n",
              "      <td>2.70</td>\n",
              "      <td>1</td>\n",
              "      <td>False</td>\n",
              "    </tr>\n",
              "    <tr>\n",
              "      <th>1</th>\n",
              "      <td>OH</td>\n",
              "      <td>107</td>\n",
              "      <td>415</td>\n",
              "      <td>371-7191</td>\n",
              "      <td>no</td>\n",
              "      <td>yes</td>\n",
              "      <td>26</td>\n",
              "      <td>161.6</td>\n",
              "      <td>123</td>\n",
              "      <td>27.47</td>\n",
              "      <td>195.5</td>\n",
              "      <td>103</td>\n",
              "      <td>16.62</td>\n",
              "      <td>254.4</td>\n",
              "      <td>103</td>\n",
              "      <td>11.45</td>\n",
              "      <td>13.7</td>\n",
              "      <td>3</td>\n",
              "      <td>3.70</td>\n",
              "      <td>1</td>\n",
              "      <td>False</td>\n",
              "    </tr>\n",
              "    <tr>\n",
              "      <th>2</th>\n",
              "      <td>NJ</td>\n",
              "      <td>137</td>\n",
              "      <td>415</td>\n",
              "      <td>358-1921</td>\n",
              "      <td>no</td>\n",
              "      <td>no</td>\n",
              "      <td>0</td>\n",
              "      <td>243.4</td>\n",
              "      <td>114</td>\n",
              "      <td>41.38</td>\n",
              "      <td>121.2</td>\n",
              "      <td>110</td>\n",
              "      <td>10.30</td>\n",
              "      <td>162.6</td>\n",
              "      <td>104</td>\n",
              "      <td>7.32</td>\n",
              "      <td>12.2</td>\n",
              "      <td>5</td>\n",
              "      <td>3.29</td>\n",
              "      <td>0</td>\n",
              "      <td>False</td>\n",
              "    </tr>\n",
              "    <tr>\n",
              "      <th>3</th>\n",
              "      <td>OH</td>\n",
              "      <td>84</td>\n",
              "      <td>408</td>\n",
              "      <td>375-9999</td>\n",
              "      <td>yes</td>\n",
              "      <td>no</td>\n",
              "      <td>0</td>\n",
              "      <td>299.4</td>\n",
              "      <td>71</td>\n",
              "      <td>50.90</td>\n",
              "      <td>61.9</td>\n",
              "      <td>88</td>\n",
              "      <td>5.26</td>\n",
              "      <td>196.9</td>\n",
              "      <td>89</td>\n",
              "      <td>8.86</td>\n",
              "      <td>6.6</td>\n",
              "      <td>7</td>\n",
              "      <td>1.78</td>\n",
              "      <td>2</td>\n",
              "      <td>False</td>\n",
              "    </tr>\n",
              "    <tr>\n",
              "      <th>4</th>\n",
              "      <td>OK</td>\n",
              "      <td>75</td>\n",
              "      <td>415</td>\n",
              "      <td>330-6626</td>\n",
              "      <td>yes</td>\n",
              "      <td>no</td>\n",
              "      <td>0</td>\n",
              "      <td>166.7</td>\n",
              "      <td>113</td>\n",
              "      <td>28.34</td>\n",
              "      <td>148.3</td>\n",
              "      <td>122</td>\n",
              "      <td>12.61</td>\n",
              "      <td>186.9</td>\n",
              "      <td>121</td>\n",
              "      <td>8.41</td>\n",
              "      <td>10.1</td>\n",
              "      <td>3</td>\n",
              "      <td>2.73</td>\n",
              "      <td>3</td>\n",
              "      <td>False</td>\n",
              "    </tr>\n",
              "    <tr>\n",
              "      <th>...</th>\n",
              "      <td>...</td>\n",
              "      <td>...</td>\n",
              "      <td>...</td>\n",
              "      <td>...</td>\n",
              "      <td>...</td>\n",
              "      <td>...</td>\n",
              "      <td>...</td>\n",
              "      <td>...</td>\n",
              "      <td>...</td>\n",
              "      <td>...</td>\n",
              "      <td>...</td>\n",
              "      <td>...</td>\n",
              "      <td>...</td>\n",
              "      <td>...</td>\n",
              "      <td>...</td>\n",
              "      <td>...</td>\n",
              "      <td>...</td>\n",
              "      <td>...</td>\n",
              "      <td>...</td>\n",
              "      <td>...</td>\n",
              "      <td>...</td>\n",
              "    </tr>\n",
              "    <tr>\n",
              "      <th>3328</th>\n",
              "      <td>AZ</td>\n",
              "      <td>192</td>\n",
              "      <td>415</td>\n",
              "      <td>414-4276</td>\n",
              "      <td>no</td>\n",
              "      <td>yes</td>\n",
              "      <td>36</td>\n",
              "      <td>156.2</td>\n",
              "      <td>77</td>\n",
              "      <td>26.55</td>\n",
              "      <td>215.5</td>\n",
              "      <td>126</td>\n",
              "      <td>18.32</td>\n",
              "      <td>279.1</td>\n",
              "      <td>83</td>\n",
              "      <td>12.56</td>\n",
              "      <td>9.9</td>\n",
              "      <td>6</td>\n",
              "      <td>2.67</td>\n",
              "      <td>2</td>\n",
              "      <td>False</td>\n",
              "    </tr>\n",
              "    <tr>\n",
              "      <th>3329</th>\n",
              "      <td>WV</td>\n",
              "      <td>68</td>\n",
              "      <td>415</td>\n",
              "      <td>370-3271</td>\n",
              "      <td>no</td>\n",
              "      <td>no</td>\n",
              "      <td>0</td>\n",
              "      <td>231.1</td>\n",
              "      <td>57</td>\n",
              "      <td>39.29</td>\n",
              "      <td>153.4</td>\n",
              "      <td>55</td>\n",
              "      <td>13.04</td>\n",
              "      <td>191.3</td>\n",
              "      <td>123</td>\n",
              "      <td>8.61</td>\n",
              "      <td>9.6</td>\n",
              "      <td>4</td>\n",
              "      <td>2.59</td>\n",
              "      <td>3</td>\n",
              "      <td>False</td>\n",
              "    </tr>\n",
              "    <tr>\n",
              "      <th>3330</th>\n",
              "      <td>RI</td>\n",
              "      <td>28</td>\n",
              "      <td>510</td>\n",
              "      <td>328-8230</td>\n",
              "      <td>no</td>\n",
              "      <td>no</td>\n",
              "      <td>0</td>\n",
              "      <td>180.8</td>\n",
              "      <td>109</td>\n",
              "      <td>30.74</td>\n",
              "      <td>288.8</td>\n",
              "      <td>58</td>\n",
              "      <td>24.55</td>\n",
              "      <td>191.9</td>\n",
              "      <td>91</td>\n",
              "      <td>8.64</td>\n",
              "      <td>14.1</td>\n",
              "      <td>6</td>\n",
              "      <td>3.81</td>\n",
              "      <td>2</td>\n",
              "      <td>False</td>\n",
              "    </tr>\n",
              "    <tr>\n",
              "      <th>3331</th>\n",
              "      <td>CT</td>\n",
              "      <td>184</td>\n",
              "      <td>510</td>\n",
              "      <td>364-6381</td>\n",
              "      <td>yes</td>\n",
              "      <td>no</td>\n",
              "      <td>0</td>\n",
              "      <td>213.8</td>\n",
              "      <td>105</td>\n",
              "      <td>36.35</td>\n",
              "      <td>159.6</td>\n",
              "      <td>84</td>\n",
              "      <td>13.57</td>\n",
              "      <td>139.2</td>\n",
              "      <td>137</td>\n",
              "      <td>6.26</td>\n",
              "      <td>5.0</td>\n",
              "      <td>10</td>\n",
              "      <td>1.35</td>\n",
              "      <td>2</td>\n",
              "      <td>False</td>\n",
              "    </tr>\n",
              "    <tr>\n",
              "      <th>3332</th>\n",
              "      <td>TN</td>\n",
              "      <td>74</td>\n",
              "      <td>415</td>\n",
              "      <td>400-4344</td>\n",
              "      <td>no</td>\n",
              "      <td>yes</td>\n",
              "      <td>25</td>\n",
              "      <td>234.4</td>\n",
              "      <td>113</td>\n",
              "      <td>39.85</td>\n",
              "      <td>265.9</td>\n",
              "      <td>82</td>\n",
              "      <td>22.60</td>\n",
              "      <td>241.4</td>\n",
              "      <td>77</td>\n",
              "      <td>10.86</td>\n",
              "      <td>13.7</td>\n",
              "      <td>4</td>\n",
              "      <td>3.70</td>\n",
              "      <td>0</td>\n",
              "      <td>False</td>\n",
              "    </tr>\n",
              "  </tbody>\n",
              "</table>\n",
              "<p>3333 rows × 21 columns</p>\n",
              "</div>\n",
              "      <button class=\"colab-df-convert\" onclick=\"convertToInteractive('df-f3dc1064-5aea-4c95-8fd9-6923e24cceda')\"\n",
              "              title=\"Convert this dataframe to an interactive table.\"\n",
              "              style=\"display:none;\">\n",
              "        \n",
              "  <svg xmlns=\"http://www.w3.org/2000/svg\" height=\"24px\"viewBox=\"0 0 24 24\"\n",
              "       width=\"24px\">\n",
              "    <path d=\"M0 0h24v24H0V0z\" fill=\"none\"/>\n",
              "    <path d=\"M18.56 5.44l.94 2.06.94-2.06 2.06-.94-2.06-.94-.94-2.06-.94 2.06-2.06.94zm-11 1L8.5 8.5l.94-2.06 2.06-.94-2.06-.94L8.5 2.5l-.94 2.06-2.06.94zm10 10l.94 2.06.94-2.06 2.06-.94-2.06-.94-.94-2.06-.94 2.06-2.06.94z\"/><path d=\"M17.41 7.96l-1.37-1.37c-.4-.4-.92-.59-1.43-.59-.52 0-1.04.2-1.43.59L10.3 9.45l-7.72 7.72c-.78.78-.78 2.05 0 2.83L4 21.41c.39.39.9.59 1.41.59.51 0 1.02-.2 1.41-.59l7.78-7.78 2.81-2.81c.8-.78.8-2.07 0-2.86zM5.41 20L4 18.59l7.72-7.72 1.47 1.35L5.41 20z\"/>\n",
              "  </svg>\n",
              "      </button>\n",
              "      \n",
              "  <style>\n",
              "    .colab-df-container {\n",
              "      display:flex;\n",
              "      flex-wrap:wrap;\n",
              "      gap: 12px;\n",
              "    }\n",
              "\n",
              "    .colab-df-convert {\n",
              "      background-color: #E8F0FE;\n",
              "      border: none;\n",
              "      border-radius: 50%;\n",
              "      cursor: pointer;\n",
              "      display: none;\n",
              "      fill: #1967D2;\n",
              "      height: 32px;\n",
              "      padding: 0 0 0 0;\n",
              "      width: 32px;\n",
              "    }\n",
              "\n",
              "    .colab-df-convert:hover {\n",
              "      background-color: #E2EBFA;\n",
              "      box-shadow: 0px 1px 2px rgba(60, 64, 67, 0.3), 0px 1px 3px 1px rgba(60, 64, 67, 0.15);\n",
              "      fill: #174EA6;\n",
              "    }\n",
              "\n",
              "    [theme=dark] .colab-df-convert {\n",
              "      background-color: #3B4455;\n",
              "      fill: #D2E3FC;\n",
              "    }\n",
              "\n",
              "    [theme=dark] .colab-df-convert:hover {\n",
              "      background-color: #434B5C;\n",
              "      box-shadow: 0px 1px 3px 1px rgba(0, 0, 0, 0.15);\n",
              "      filter: drop-shadow(0px 1px 2px rgba(0, 0, 0, 0.3));\n",
              "      fill: #FFFFFF;\n",
              "    }\n",
              "  </style>\n",
              "\n",
              "      <script>\n",
              "        const buttonEl =\n",
              "          document.querySelector('#df-f3dc1064-5aea-4c95-8fd9-6923e24cceda button.colab-df-convert');\n",
              "        buttonEl.style.display =\n",
              "          google.colab.kernel.accessAllowed ? 'block' : 'none';\n",
              "\n",
              "        async function convertToInteractive(key) {\n",
              "          const element = document.querySelector('#df-f3dc1064-5aea-4c95-8fd9-6923e24cceda');\n",
              "          const dataTable =\n",
              "            await google.colab.kernel.invokeFunction('convertToInteractive',\n",
              "                                                     [key], {});\n",
              "          if (!dataTable) return;\n",
              "\n",
              "          const docLinkHtml = 'Like what you see? Visit the ' +\n",
              "            '<a target=\"_blank\" href=https://colab.research.google.com/notebooks/data_table.ipynb>data table notebook</a>'\n",
              "            + ' to learn more about interactive tables.';\n",
              "          element.innerHTML = '';\n",
              "          dataTable['output_type'] = 'display_data';\n",
              "          await google.colab.output.renderOutput(dataTable, element);\n",
              "          const docLink = document.createElement('div');\n",
              "          docLink.innerHTML = docLinkHtml;\n",
              "          element.appendChild(docLink);\n",
              "        }\n",
              "      </script>\n",
              "    </div>\n",
              "  </div>\n",
              "  "
            ]
          },
          "metadata": {},
          "execution_count": 3
        }
      ],
      "source": [
        "#Reading data\n",
        "dataset = pd.read_csv(\"/content/drive/MyDrive/Degree and Master Study/S2 Binus/Semester 6/Thesis Deep Learning/Koding/bigml_59c28831336c6604c800002a.csv\")\n",
        "pd.options.display.max_columns = None\n",
        "dataset"
      ]
    },
    {
      "cell_type": "code",
      "execution_count": null,
      "metadata": {
        "id": "jfCKy4utASsY"
      },
      "outputs": [],
      "source": [
        "#Defining columns\n",
        "numerical_columns = ['number vmail messages', 'total day minutes', 'total day calls',\n",
        "                     'total day charge', 'total eve minutes', 'total eve calls', 'total eve charge', 'total night minutes',\n",
        "                     'total night calls', 'total night charge', 'total intl minutes', 'total intl calls',\n",
        "                     'total intl charge', 'customer service calls']\n",
        "categorical_columns = ['state', 'international plan', 'voice mail plan','area code']\n",
        "outputs = ['churn']\n",
        "\n",
        "#Input >14 Numerical coloums and 4 Categorical coloums\n",
        "#Output > 1 Categorical coloum"
      ]
    },
    {
      "cell_type": "code",
      "execution_count": null,
      "metadata": {
        "id": "AYDxtjQZASsZ",
        "colab": {
          "base_uri": "https://localhost:8080/"
        },
        "outputId": "23c602fb-e5c4-47c2-812f-851f752e9eba"
      },
      "outputs": [
        {
          "output_type": "stream",
          "name": "stdout",
          "text": [
            "tensor([[ 1.2349,  1.5668,  0.4766,  ..., -0.6012, -0.0857, -0.4279],\n",
            "        [ 1.3079, -0.3337,  1.1245,  ..., -0.6012,  1.2412, -0.4279],\n",
            "        [-0.5918,  1.1683,  0.6760,  ...,  0.2115,  0.6972, -1.1882],\n",
            "        ...,\n",
            "        [-0.5918,  0.0188,  0.4268,  ...,  0.6179,  1.3871,  0.3324],\n",
            "        [-0.5918,  0.6248,  0.2275,  ...,  2.2434, -1.8770,  0.3324],\n",
            "        [ 1.2349,  1.0030,  0.6261,  ..., -0.1948,  1.2412, -1.1882]])\n",
            "torch.float32\n",
            "torch.Size([3333, 14])\n",
            "___________________________________________________________________________\n",
            "tensor([[16,  0,  1,  1],\n",
            "        [35,  0,  1,  1],\n",
            "        [31,  0,  0,  1],\n",
            "        ...,\n",
            "        [39,  0,  0,  2],\n",
            "        [ 6,  1,  0,  2],\n",
            "        [42,  0,  1,  1]])\n",
            "torch.int64\n",
            "torch.Size([3333, 4])\n",
            "___________________________________________________________________________\n"
          ]
        }
      ],
      "source": [
        "#Processing columns\n",
        "scaler = StandardScaler()\n",
        "\n",
        "#Numerical\n",
        "#Convert our numerical columns to tensors\n",
        "numerical_data = np.stack([dataset[col].values for col in numerical_columns], 1)\n",
        "\n",
        "#Fixed how to use scaler\n",
        "numerical_data = scaler.fit_transform(numerical_data)\n",
        "numerical_data = torch.tensor(numerical_data, dtype=torch.float)\n",
        "\n",
        "#Categorical\n",
        "#Convert the types for categorical columns to category\n",
        "for category in categorical_columns:\n",
        "    dataset[category] = dataset[category].astype('category')\n",
        "\n",
        "#Convert data in the four categorical columns into numpy arrays and then stack all the columns horizontally \n",
        "st = dataset['state'].cat.codes.values\n",
        "ip = dataset['international plan'].cat.codes.values\n",
        "vm = dataset['voice mail plan'].cat.codes.values\n",
        "ac = dataset['area code'].cat.codes.values\n",
        "\n",
        "categorical_data = np.stack([st, ip, vm, ac], 1)\n",
        "categorical_data = torch.tensor(categorical_data, dtype=torch.int64)\n",
        "\n",
        "#Outputs\n",
        "#Convert the output numpy array into a tensor object\n",
        "dataset[outputs] = dataset[outputs].astype(int)\n",
        "outputs = torch.tensor(dataset[outputs].values).flatten()\n",
        "outputs = outputs.long()\n",
        "\n",
        "#Print Outputs\n",
        "print(numerical_data)\n",
        "print(numerical_data.dtype)\n",
        "print(numerical_data.shape)\n",
        "print('_' * 75)\n",
        "\n",
        "print(categorical_data)\n",
        "print(categorical_data.dtype)\n",
        "print(categorical_data.shape)\n",
        "print('_' * 75)"
      ]
    },
    {
      "cell_type": "code",
      "execution_count": null,
      "metadata": {
        "id": "diM-ImLzASsa",
        "outputId": "2ac92346-ad45-41cb-f2f9-d3fa2669aa87",
        "colab": {
          "base_uri": "https://localhost:8080/"
        }
      },
      "outputs": [
        {
          "output_type": "execute_result",
          "data": {
            "text/plain": [
              "torch.Size([3333, 14])"
            ]
          },
          "metadata": {},
          "execution_count": 6
        }
      ],
      "source": [
        "numerical_data.shape"
      ]
    },
    {
      "cell_type": "code",
      "execution_count": null,
      "metadata": {
        "id": "AE-o4-E7ASsa",
        "colab": {
          "base_uri": "https://localhost:8080/"
        },
        "outputId": "670ce347-8174-41ff-bd71-98438816480b"
      },
      "outputs": [
        {
          "output_type": "stream",
          "name": "stdout",
          "text": [
            "1999\n",
            "666\n",
            "666\n"
          ]
        }
      ],
      "source": [
        "#Dividing dataset into Training, Valid and Test\n",
        "total_records = 3333\n",
        "\n",
        "train_records = int(total_records * .6)\n",
        "valid_records = int(total_records * .2)\n",
        "test_records = int(total_records * .2)\n",
        "\n",
        "numerical_train_data = numerical_data[:train_records]\n",
        "numerical_valid_data = numerical_data[train_records:train_records+valid_records]\n",
        "numerical_test_data = numerical_data[train_records+valid_records:total_records]\n",
        "\n",
        "categorical_train_data = categorical_data[:train_records]\n",
        "categorical_valid_data = categorical_data[train_records:train_records+valid_records]\n",
        "categorical_test_data = categorical_data[train_records+valid_records:total_records]\n",
        "\n",
        "train_outputs = outputs[:train_records]\n",
        "valid_outputs = outputs[train_records:train_records+valid_records]\n",
        "test_outputs = outputs[train_records+valid_records:total_records]\n",
        "\n",
        "#Print divide dataset\n",
        "print(train_records)\n",
        "print(valid_records)\n",
        "print(test_records)"
      ]
    },
    {
      "cell_type": "code",
      "execution_count": null,
      "metadata": {
        "id": "KtIYetX8ASsb"
      },
      "outputs": [],
      "source": [
        "#Define a class named Model, which will be used to train the model\n",
        "from torch.nn.parameter import Parameter\n",
        "from torch.nn import init\n",
        "import math\n",
        "\n",
        "#Creating the Neural Network\n",
        "class Model(nn.Module):\n",
        "\n",
        "    def __init__(self):\n",
        "        super().__init__()\n",
        "        self.layer1 = nn.Linear(14, 100) #Numerical\n",
        "        self.relu = nn.ReLU(inplace=True)\n",
        "        self.bn1 = nn.BatchNorm1d(100)\n",
        "        self.weights1 = Parameter(torch.Tensor(1, 120))\n",
        "        init.kaiming_uniform_(self.weights1, a=math.sqrt(5))\n",
        "        \n",
        "        self.weights2 = Parameter(torch.Tensor(1, 120))\n",
        "        init.kaiming_uniform_(self.weights2, a=math.sqrt(5))\n",
        "        \n",
        "        self.bias1 = Parameter(torch.Tensor(1))\n",
        "        fan_in, _ = init._calculate_fan_in_and_fan_out(self.weights1)\n",
        "        bound = 1 / math.sqrt(fan_in)\n",
        "        init.uniform_(self.bias1, -bound, bound)\n",
        "        \n",
        "        self.bias2 = Parameter(torch.Tensor(1))\n",
        "        fan_in, _ = init._calculate_fan_in_and_fan_out(self.weights2)\n",
        "        bound = 1 / math.sqrt(fan_in)\n",
        "        init.uniform_(self.bias2, -bound, bound)\n",
        "        \n",
        "        #Categorical\n",
        "        self.layer1_1 = nn.Embedding(51, 5) #51 unique data cat state coloum as input and 5 dimensi/vector size as output\n",
        "        self.bn1_1 = nn.BatchNorm1d(5)\n",
        "        self.layer1_2 = nn.Embedding(2, 5) #2 unique data cat state coloum as input and 5 dimensi/vector size as output\n",
        "        self.bn1_2 = nn.BatchNorm1d(5)\n",
        "        self.layer1_3 = nn.Embedding(2, 5) #2 unique data cat state coloum as input and 5 dimensi/vector size as output\n",
        "        self.bn1_3 = nn.BatchNorm1d(5)\n",
        "        self.layer1_4 = nn.Embedding(3, 5) #3 unique data cat state coloum as input and 5 dimensi/vector size as output\n",
        "        self.bn1_4 = nn.BatchNorm1d(5)\n",
        "        \n",
        "        self.layer2 = nn.Linear(120, 120)\n",
        "        self.bn2 = nn.BatchNorm1d(120)\n",
        "        \n",
        "    def forward(self, x_numerical, x_categorical):\n",
        "        x1 = self.layer1(x_numerical)\n",
        "        x1 = self.relu(x1)\n",
        "        x1 = self.bn1(x1)\n",
        "        \n",
        "        #Decoder\n",
        "        x1_embedding = self.layer1_1(x_categorical[:,0])\n",
        "        x1_embedding = self.relu(x1_embedding)\n",
        "        x1_embedding = self.bn1_1(x1_embedding)\n",
        "        \n",
        "        x2_embedding = self.layer1_2(x_categorical[:,1])\n",
        "        x2_embedding = self.relu(x2_embedding)\n",
        "        x2_embedding = self.bn1_2(x2_embedding)\n",
        "        \n",
        "        x3_embedding = self.layer1_3(x_categorical[:,2])\n",
        "        x3_embedding = self.relu(x3_embedding)\n",
        "        x3_embedding = self.bn1_3(x3_embedding)\n",
        "        \n",
        "        x4_embedding = self.layer1_4(x_categorical[:,3])\n",
        "        x4_embedding = self.relu(x4_embedding)\n",
        "        x4_embedding = self.bn1_4(x4_embedding)\n",
        "        \n",
        "        x_embedding = torch.cat([x1_embedding,x2_embedding,x3_embedding,x4_embedding], 1)\n",
        "                \n",
        "        x1 = torch.cat([x1, x_embedding], 1)\n",
        "        \n",
        "        #Decoder\n",
        "        x2 = self.layer2(x1)        \n",
        "        emb = self.relu(x2)\n",
        "        x2 = self.bn2(emb)\n",
        "        \n",
        "        x2_weights1 = torch.mm(x2, self.weights1.t()) + self.bias1\n",
        "        x2_weights2 = torch.mm(x2, self.weights2.t()) + self.bias2\n",
        "        \n",
        "        x3 = torch.cat([x2_weights1, x2_weights2], 1)\n",
        "        \n",
        "        return emb, self.weights1, self.weights2, x3"
      ]
    },
    {
      "cell_type": "code",
      "execution_count": null,
      "metadata": {
        "id": "7xCbJV_UASsd"
      },
      "outputs": [],
      "source": [
        "model = Model()\n",
        "print(model.decoder_numerical)"
      ]
    },
    {
      "cell_type": "code",
      "source": [
        "#===============================================================================================\n",
        "#Defining churn:loyal weight ratio. churn_percentage=0.7 means churn:loyal weight ratio of 7:3.\n",
        "#===============================================================================================\n",
        "churn_percentage = 0.7\n",
        "\n",
        "#Defining loss function\n",
        "loss_function = nn.CrossEntropyLoss(weight=torch.Tensor([1-churn_percentage, churn_percentage]))"
      ],
      "metadata": {
        "id": "WjtCg26AQHjE"
      },
      "execution_count": null,
      "outputs": []
    },
    {
      "cell_type": "code",
      "source": [
        "#Load training model\n",
        "model.load_state_dict(torch.load(\"/content/drive/MyDrive/Degree and Master Study/S2 Binus/Semester 6/Thesis Deep Learning/Koding/Train Model/SoftMax.pth\".format(churn_percentage)))"
      ],
      "metadata": {
        "colab": {
          "base_uri": "https://localhost:8080/"
        },
        "id": "TBbSzVMdQUyl",
        "outputId": "b96fcca9-17af-40af-c1d7-20ea398d9ad1"
      },
      "execution_count": null,
      "outputs": [
        {
          "output_type": "execute_result",
          "data": {
            "text/plain": [
              "<All keys matched successfully>"
            ]
          },
          "metadata": {},
          "execution_count": 11
        }
      ]
    },
    {
      "cell_type": "code",
      "source": [
        "model.eval()\n",
        "with torch.no_grad():\n",
        "    x1, w1, w2, x2 = model(numerical_test_data, categorical_test_data)"
      ],
      "metadata": {
        "id": "pvjX3AzOVOO7"
      },
      "execution_count": null,
      "outputs": []
    },
    {
      "cell_type": "code",
      "execution_count": null,
      "metadata": {
        "id": "7ljh5spIASsg",
        "outputId": "4cd7d273-34c2-4e08-ba99-47ea4ac16481",
        "colab": {
          "base_uri": "https://localhost:8080/"
        }
      },
      "outputs": [
        {
          "output_type": "stream",
          "name": "stdout",
          "text": [
            "Loss: 0.34370595\n"
          ]
        }
      ],
      "source": [
        "#Creating predictions\n",
        "with torch.no_grad():\n",
        "    test, test_weights1, test_weights2, test_embed = model(numerical_test_data, categorical_test_data)\n",
        "    test_loss = loss_function(test_embed, test_outputs)\n",
        "    total_test_loss = test_loss\n",
        "print(f'Loss: {total_test_loss:.8f}')"
      ]
    },
    {
      "cell_type": "code",
      "execution_count": null,
      "metadata": {
        "id": "uIToD0XDASsg",
        "outputId": "027c9158-87ca-4570-d82c-59921abaa6a5",
        "colab": {
          "base_uri": "https://localhost:8080/"
        }
      },
      "outputs": [
        {
          "output_type": "stream",
          "name": "stdout",
          "text": [
            "[[525  34]\n",
            " [ 29  80]]\n",
            "              precision    recall  f1-score   support\n",
            "\n",
            "           0       0.95      0.94      0.94       559\n",
            "           1       0.70      0.73      0.72       109\n",
            "\n",
            "    accuracy                           0.91       668\n",
            "   macro avg       0.82      0.84      0.83       668\n",
            "weighted avg       0.91      0.91      0.91       668\n",
            "\n",
            "Accuracy:  0.905688622754491\n",
            "F1 Score:  0.8304425078263813\n"
          ]
        }
      ],
      "source": [
        "#=============================================================================================\n",
        "#the main result seen is the F1 Score, because\n",
        "#the misleading accuracy metric is used for imbalance data\n",
        "#=============================================================================================\n",
        "from sklearn.metrics import f1_score\n",
        "\n",
        "test_val = np.argmax(test_embed, axis=1)\n",
        "print(confusion_matrix(test_outputs, test_val))\n",
        "print(classification_report(test_outputs, test_val))\n",
        "print(\"Accuracy: \", accuracy_score(test_outputs, test_val))\n",
        "print(\"F1 Score: \", f1_score(test_outputs, test_val, average='macro'))"
      ]
    },
    {
      "cell_type": "code",
      "execution_count": null,
      "metadata": {
        "id": "e4Rsm1AGASsh"
      },
      "outputs": [],
      "source": [
        "test_data = dataset[train_records+valid_records:total_records]\n",
        "test_data = test_data.reset_index()\n",
        "\n",
        "train_data = dataset[0:train_records]\n",
        "train_data = train_data.reset_index()"
      ]
    },
    {
      "cell_type": "code",
      "execution_count": null,
      "metadata": {
        "id": "tD27p5qeASsh"
      },
      "outputs": [],
      "source": [
        "with torch.no_grad():\n",
        "    x1, w1, w2, x2 = model(numerical_test_data, categorical_test_data)"
      ]
    },
    {
      "cell_type": "code",
      "execution_count": null,
      "metadata": {
        "id": "l7sGED0hASsi"
      },
      "outputs": [],
      "source": [
        "embedding = x1.tolist()"
      ]
    },
    {
      "cell_type": "code",
      "execution_count": null,
      "metadata": {
        "id": "Tq1YnRNfASsi"
      },
      "outputs": [],
      "source": [
        "x = embedding"
      ]
    },
    {
      "cell_type": "code",
      "execution_count": null,
      "metadata": {
        "id": "HEXWozdzASsi",
        "outputId": "c6a9c54d-bc5c-48e5-c031-03fe6b2086ad",
        "colab": {
          "base_uri": "https://localhost:8080/"
        }
      },
      "outputs": [
        {
          "output_type": "stream",
          "name": "stdout",
          "text": [
            "[t-SNE] Computing 667 nearest neighbors...\n",
            "[t-SNE] Indexed 668 samples in 0.000s...\n"
          ]
        },
        {
          "output_type": "stream",
          "name": "stderr",
          "text": [
            "/usr/local/lib/python3.7/dist-packages/sklearn/manifold/_t_sne.py:783: FutureWarning: The default initialization in TSNE will change from 'random' to 'pca' in 1.2.\n",
            "  FutureWarning,\n",
            "/usr/local/lib/python3.7/dist-packages/sklearn/manifold/_t_sne.py:793: FutureWarning: The default learning rate in TSNE will change from 200.0 to 'auto' in 1.2.\n",
            "  FutureWarning,\n"
          ]
        },
        {
          "output_type": "stream",
          "name": "stdout",
          "text": [
            "[t-SNE] Computed neighbors for 668 samples in 0.172s...\n",
            "[t-SNE] Computed conditional probabilities for sample 668 / 668\n",
            "[t-SNE] Mean sigma: 6.613341\n",
            "[t-SNE] KL divergence after 250 iterations with early exaggeration: 32.254513\n",
            "[t-SNE] KL divergence after 700 iterations: 0.030495\n"
          ]
        }
      ],
      "source": [
        "#==========================================================================\n",
        "#Embedding visualization was changed from PCA to t-SNE because\n",
        "#the results of PCA visualization were not representative.\n",
        "#Paper t-SNE: https://lvdmaaten.github.io/publications/papers/JMLR_2008.pdf\n",
        "#==========================================================================\n",
        "tsne = TSNE(n_components=2, verbose=1, perplexity=600, n_iter=1000)\n",
        "principalComponents = tsne.fit_transform(x)\n",
        "principalDf = pd.DataFrame(data = principalComponents\n",
        "             , columns = ['principal component 1', 'principal component 2'])"
      ]
    },
    {
      "cell_type": "code",
      "execution_count": null,
      "metadata": {
        "id": "uKJ_mHtWASsj"
      },
      "outputs": [],
      "source": [
        "finalDf = pd.concat([principalDf, test_data[['churn']]], axis = 1)\n",
        "\n",
        "finalDf0 = finalDf[finalDf['churn']==0]\n",
        "finalDf1 = finalDf[finalDf['churn']==1]"
      ]
    },
    {
      "cell_type": "code",
      "execution_count": null,
      "metadata": {
        "scrolled": false,
        "id": "HIINPwPyASsj",
        "outputId": "7bcaca4c-9a1f-4965-c279-857b7ef78e5b",
        "colab": {
          "base_uri": "https://localhost:8080/",
          "height": 523
        }
      },
      "outputs": [
        {
          "output_type": "display_data",
          "data": {
            "text/plain": [
              "<Figure size 576x576 with 1 Axes>"
            ],
            "image/png": "[encoded data removed]"
          },
          "metadata": {
            "needs_background": "light"
          }
        }
      ],
      "source": [
        "#Visualisasi embedding churn dan not churn\n",
        "fig = plt.figure(figsize = (8,8))\n",
        "ax = fig.add_subplot(1,1,1) \n",
        "ax.set_xlabel('Principal Component 1', fontsize = 15)\n",
        "ax.set_ylabel('Principal Component 2', fontsize = 15)\n",
        "ax.set_title('Softmax Loss t-SNE', fontsize = 20)\n",
        "targets = [0, 1]\n",
        "colors = ['r', 'g']\n",
        "for target, color in zip(targets,colors):\n",
        "    indicesToKeep = finalDf['churn'] == target\n",
        "    ax.scatter(finalDf.loc[indicesToKeep, 'principal component 1']\n",
        "               , finalDf.loc[indicesToKeep, 'principal component 2']\n",
        "               , c = color\n",
        "               , s = 50)\n",
        "ax.legend(targets)\n",
        "ax.grid()\n",
        "xlim = ax.get_xlim()\n",
        "ylim = ax.get_ylim()"
      ]
    },
    {
      "cell_type": "code",
      "execution_count": null,
      "metadata": {
        "id": "0F38vUkYASsk",
        "outputId": "b06f2712-b80c-4d2e-ef9f-1b0aca18ff6f",
        "colab": {
          "base_uri": "https://localhost:8080/",
          "height": 523
        }
      },
      "outputs": [
        {
          "output_type": "display_data",
          "data": {
            "text/plain": [
              "<Figure size 576x576 with 1 Axes>"
            ],
            "image/png": "[encoded data removed]"
          },
          "metadata": {
            "needs_background": "light"
          }
        }
      ],
      "source": [
        "#Visualisasi embedding not churn only\n",
        "fig = plt.figure(figsize = (8,8))\n",
        "ax = fig.add_subplot(1,1,1) \n",
        "ax.set_xlabel('Principal Component 1', fontsize = 15)\n",
        "ax.set_ylabel('Principal Component 2', fontsize = 15)\n",
        "ax.set_title('Softmax Loss Not churn t-SNE', fontsize = 20)\n",
        "ax.set_xlim(xlim)\n",
        "ax.set_ylim(ylim)\n",
        "targets = [0]\n",
        "colors = ['r']\n",
        "for target, color in zip(targets,colors):\n",
        "    indicesToKeep = finalDf0['churn'] == target\n",
        "    ax.scatter(finalDf0.loc[indicesToKeep, 'principal component 1']\n",
        "               , finalDf0.loc[indicesToKeep, 'principal component 2']\n",
        "               , c = color\n",
        "               , s = 50)\n",
        "ax.legend(targets)\n",
        "ax.grid()"
      ]
    },
    {
      "cell_type": "code",
      "execution_count": null,
      "metadata": {
        "id": "3hh-kuvRASsk",
        "outputId": "8bc8d1a2-bac7-4f3d-db2d-1b66f030e159",
        "colab": {
          "base_uri": "https://localhost:8080/",
          "height": 523
        }
      },
      "outputs": [
        {
          "output_type": "display_data",
          "data": {
            "text/plain": [
              "<Figure size 576x576 with 1 Axes>"
            ],
            "image/png": "[encoded data removed]"
          },
          "metadata": {
            "needs_background": "light"
          }
        }
      ],
      "source": [
        "#Visualisasi embedding churn only\n",
        "fig = plt.figure(figsize = (8,8))\n",
        "ax = fig.add_subplot(1,1,1) \n",
        "ax.set_xlabel('Principal Component 1', fontsize = 15)\n",
        "ax.set_ylabel('Principal Component 2', fontsize = 15)\n",
        "ax.set_title('Softmax Loss Churn t-SNE', fontsize = 20)\n",
        "ax.set_xlim(xlim)\n",
        "ax.set_ylim(ylim)\n",
        "targets = [1]\n",
        "colors = ['g']\n",
        "for target, color in zip(targets,colors):\n",
        "    indicesToKeep = finalDf1['churn'] == target\n",
        "    ax.scatter(finalDf1.loc[indicesToKeep, 'principal component 1']\n",
        "               , finalDf1.loc[indicesToKeep, 'principal component 2']\n",
        "               , c = color\n",
        "               , s = 50)\n",
        "ax.legend(targets)\n",
        "ax.grid()"
      ]
    },
    {
      "cell_type": "code",
      "execution_count": null,
      "metadata": {
        "id": "fFFAnWIeASsk",
        "outputId": "d31b80bb-7a88-4316-93a4-8c40345971e8",
        "colab": {
          "base_uri": "https://localhost:8080/"
        }
      },
      "outputs": [
        {
          "output_type": "stream",
          "name": "stdout",
          "text": [
            "emb not churn, center not churn (not churn intra-cluster):  tensor(0.5884)\n",
            "emb not churn, center churn (not churn inter-cluster):  tensor(0.4825)\n",
            "emb churn, center churn (churn intra-cluster):  tensor(0.6492)\n",
            "emb churn, center not churn (churn inter-cluster):  tensor(0.5481)\n",
            "not churn inter-intra cluster ratio:  tensor(1.2196)\n",
            "churn inter-intra cluster ratio:  tensor(1.1845)\n"
          ]
        }
      ],
      "source": [
        "#===========================================================================\n",
        "#In addition to the F1 Score, it is also reported that the ratio\n",
        "#of the distance between intra-cluster embedding and inter-cluster\n",
        "#embedding distance is the distance between the embedding in a class\n",
        "#to the vector in the middle of the class (centroid/center).\n",
        "#Distance is measured by Cosine similarity.\n",
        "#The greater the cosine similarity number, the smaller the distance measured.\n",
        "#inter-cluster embedding distance is the distance between\n",
        "#embedding in one class to the center of another class (centroid/center).\n",
        "#Distance is also measured by Cosine similarity.\n",
        "#Because of the definition of cosine similarity,\n",
        "#the greater the inter:intra ratio, the better the algorithm's performance.\n",
        "#============================================================================\n",
        "notchurn_emb = x1[test_outputs==0]\n",
        "sum_notchurn = x1[test_outputs==0].sum(dim=0)\n",
        "center_notchurn = sum_notchurn/sum_notchurn.norm(p=2)\n",
        "center_notchurn = center_notchurn.unsqueeze(0)\n",
        "\n",
        "churn_emb = x1[test_outputs==1]\n",
        "sum_churn = x1[test_outputs==1].sum(dim=0)\n",
        "center_churn = sum_churn/sum_churn.norm(p=2)\n",
        "center_churn = center_churn.unsqueeze(0)\n",
        "\n",
        "cos = nn.CosineSimilarity(dim=1, eps=1e-6)\n",
        "\n",
        "notchurn_centnotchurn_sim = cos(notchurn_emb, center_notchurn).mean()\n",
        "notchurn_centchurn_sim = cos(notchurn_emb, center_churn).mean()\n",
        "churn_centchurn_sim = cos(churn_emb, center_churn).mean()\n",
        "churn_centnotchurn_sim = cos(churn_emb, center_notchurn).mean()\n",
        "\n",
        "print(\"emb not churn, center not churn (not churn intra-cluster): \", notchurn_centnotchurn_sim)\n",
        "print(\"emb not churn, center churn (not churn inter-cluster): \", notchurn_centchurn_sim)\n",
        "print(\"emb churn, center churn (churn intra-cluster): \", churn_centchurn_sim)\n",
        "print(\"emb churn, center not churn (churn inter-cluster): \", churn_centnotchurn_sim)\n",
        "\n",
        "print(\"not churn inter-intra cluster ratio: \", notchurn_centnotchurn_sim/notchurn_centchurn_sim)\n",
        "print(\"churn inter-intra cluster ratio: \", churn_centchurn_sim/churn_centnotchurn_sim)"
      ]
    }
  ],
  "metadata": {
    "kernelspec": {
      "display_name": "Python 3",
      "language": "python",
      "name": "python3"
    },
    "language_info": {
      "codemirror_mode": {
        "name": "ipython",
        "version": 3
      },
      "file_extension": ".py",
      "mimetype": "text/x-python",
      "name": "python",
      "nbconvert_exporter": "python",
      "pygments_lexer": "ipython3",
      "version": "3.6.10"
    },
    "colab": {
      "name": "Softmax_2nd_Run_Result.ipynb",
      "provenance": [],
      "collapsed_sections": [],
      "include_colab_link": true
    }
  },
  "nbformat": 4,
  "nbformat_minor": 0
}